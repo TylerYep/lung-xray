{
 "cells": [
  {
   "cell_type": "code",
   "execution_count": 4,
   "metadata": {},
   "outputs": [
    {
     "name": "stdout",
     "output_type": "stream",
     "text": [
      "The autoreload extension is already loaded. To reload it, use:\n",
      "  %reload_ext autoreload\n"
     ]
    }
   ],
   "source": [
    "%load_ext autoreload\n",
    "%autoreload 2\n",
    "import matplotlib.pyplot as plt\n",
    "# from explore import explore, plot_pixel_array, plot_with_mask\n",
    "import pydicom\n",
    "import pandas as pd\n",
    "from src.dataset import LungDataset, row_to_data\n",
    "from torchvision import datasets, transforms\n"
   ]
  },
  {
   "cell_type": "code",
   "execution_count": 5,
   "metadata": {},
   "outputs": [],
   "source": [
    "ds = LungDataset(\"train\", lazy=True, mask_only=True)"
   ]
  },
  {
   "cell_type": "code",
   "execution_count": 6,
   "metadata": {},
   "outputs": [
    {
     "ename": "NameError",
     "evalue": "name 'plot_with_mask' is not defined",
     "output_type": "error",
     "traceback": [
      "\u001b[0;31m---------------------------------------------------------------------------\u001b[0m",
      "\u001b[0;31mNameError\u001b[0m                                 Traceback (most recent call last)",
      "\u001b[0;32m<ipython-input-6-7e293513d17f>\u001b[0m in \u001b[0;36m<module>\u001b[0;34m\u001b[0m\n\u001b[1;32m      1\u001b[0m \u001b[0;32mfor\u001b[0m \u001b[0mi\u001b[0m \u001b[0;32min\u001b[0m \u001b[0mrange\u001b[0m\u001b[0;34m(\u001b[0m\u001b[0;36m10\u001b[0m\u001b[0;34m)\u001b[0m\u001b[0;34m:\u001b[0m\u001b[0;34m\u001b[0m\u001b[0;34m\u001b[0m\u001b[0m\n\u001b[0;32m----> 2\u001b[0;31m     \u001b[0mplot_with_mask\u001b[0m\u001b[0;34m(\u001b[0m\u001b[0;34m*\u001b[0m\u001b[0mds\u001b[0m\u001b[0;34m[\u001b[0m\u001b[0mi\u001b[0m\u001b[0;34m]\u001b[0m\u001b[0;34m,\u001b[0m \u001b[0;34m(\u001b[0m\u001b[0;36m2\u001b[0m\u001b[0;34m,\u001b[0m \u001b[0;36m2\u001b[0m\u001b[0;34m)\u001b[0m\u001b[0;34m)\u001b[0m\u001b[0;34m\u001b[0m\u001b[0;34m\u001b[0m\u001b[0m\n\u001b[0m\u001b[1;32m      3\u001b[0m     \u001b[0mprint\u001b[0m\u001b[0;34m(\u001b[0m\u001b[0mds\u001b[0m\u001b[0;34m[\u001b[0m\u001b[0mi\u001b[0m\u001b[0;34m]\u001b[0m\u001b[0;34m[\u001b[0m\u001b[0;36m1\u001b[0m\u001b[0;34m]\u001b[0m\u001b[0;34m.\u001b[0m\u001b[0munique\u001b[0m\u001b[0;34m(\u001b[0m\u001b[0;34m)\u001b[0m\u001b[0;34m)\u001b[0m\u001b[0;34m\u001b[0m\u001b[0;34m\u001b[0m\u001b[0m\n\u001b[1;32m      4\u001b[0m     \u001b[0mprint\u001b[0m\u001b[0;34m(\u001b[0m\u001b[0mds\u001b[0m\u001b[0;34m[\u001b[0m\u001b[0mi\u001b[0m\u001b[0;34m]\u001b[0m\u001b[0;34m[\u001b[0m\u001b[0;36m1\u001b[0m\u001b[0;34m]\u001b[0m\u001b[0;34m.\u001b[0m\u001b[0mshape\u001b[0m\u001b[0;34m)\u001b[0m\u001b[0;34m\u001b[0m\u001b[0;34m\u001b[0m\u001b[0m\n\u001b[1;32m      5\u001b[0m \u001b[0;34m\u001b[0m\u001b[0m\n",
      "\u001b[0;31mNameError\u001b[0m: name 'plot_with_mask' is not defined"
     ]
    }
   ],
   "source": [
    "for i in range(10):\n",
    "    plot_with_mask(*ds[i], (2, 2))\n",
    "    print(ds[i][1].unique())\n",
    "    print(ds[i][1].shape)\n",
    "    "
   ]
  },
  {
   "cell_type": "code",
   "execution_count": 42,
   "metadata": {},
   "outputs": [
    {
     "data": {
      "text/plain": [
       "(tensor([0.0000, 0.0039, 0.0078, 0.0118, 0.0157, 0.0196, 0.0235, 0.0275, 0.0314,\n",
       "         0.0353, 0.0392, 0.0431, 0.0471, 0.0510, 0.0549, 0.0588, 0.0627, 0.0667,\n",
       "         0.0706, 0.0745, 0.0784, 0.0824, 0.0902, 0.0941, 0.0980, 0.1020, 0.1059,\n",
       "         0.1137, 0.1216, 0.1255, 0.1294, 0.1412, 0.1451, 0.1490, 0.1529, 0.1647,\n",
       "         0.1686, 0.1765, 0.1804, 0.1922, 0.2000, 0.2039, 0.2078, 0.2118, 0.2196,\n",
       "         0.2275, 0.2353, 0.2431, 0.2588, 0.2627, 0.2667, 0.2706, 0.2902, 0.2941,\n",
       "         0.3020, 0.3098, 0.3137, 0.3176, 0.3255, 0.3294, 0.3333, 0.3412, 0.3490,\n",
       "         0.3647, 0.3686, 0.3765, 0.3804, 0.3922, 0.3961, 0.4039, 0.4196, 0.4275,\n",
       "         0.4510, 0.4549, 0.4627, 0.4667, 0.4745, 0.4863, 0.4941, 0.5020, 0.5059,\n",
       "         0.5098, 0.5176, 0.5216, 0.5255, 0.5294, 0.5490, 0.5608, 0.5647, 0.5725,\n",
       "         0.5804, 0.5843, 0.6000, 0.6235, 0.6275, 0.6431, 0.6549, 0.6588, 0.6706,\n",
       "         0.6863, 0.6902, 0.6941, 0.6980, 0.7020, 0.7059, 0.7098, 0.7137, 0.7176,\n",
       "         0.7216, 0.7294, 0.7333, 0.7373, 0.7412, 0.7451, 0.7490, 0.7569, 0.7647,\n",
       "         0.7725, 0.7765, 0.7804, 0.7843, 0.7882, 0.7922, 0.7961, 0.8000, 0.8157,\n",
       "         0.8196, 0.8235, 0.8275, 0.8314, 0.8353, 0.8431, 0.8471, 0.8510, 0.8549,\n",
       "         0.8588, 0.8745, 0.8824, 0.8863, 0.8980, 0.9020, 0.9059, 0.9176, 0.9216,\n",
       "         0.9255, 0.9294, 0.9333, 0.9373, 0.9412, 0.9451, 0.9529, 0.9569, 0.9608,\n",
       "         0.9647, 0.9686, 0.9725, 0.9765, 0.9804, 0.9843, 0.9882, 0.9922, 0.9961,\n",
       "         1.0000]),\n",
       " tensor([63363,    20,    23,     5,     2,     3,     2,    16,     8,     5,\n",
       "             1,     2,     2,     1,     2,     5,     3,     1,     2,     3,\n",
       "             3,     2,     3,     5,     5,     1,     1,     2,     2,    10,\n",
       "             1,     2,     2,     5,     2,     1,     3,     1,     1,     1,\n",
       "             4,     1,     2,     3,     1,     1,     1,     3,     3,     4,\n",
       "             3,     1,     2,     2,     1,     1,     3,     3,     2,     4,\n",
       "             1,     1,     1,     1,     2,     2,     1,     3,     4,     1,\n",
       "             3,     1,     3,     1,     1,     1,     3,     2,     1,    13,\n",
       "             1,     1,     2,     1,     1,     3,     1,     3,     2,     1,\n",
       "             1,     4,     3,     3,     1,     1,     1,     1,     3,     2,\n",
       "             2,     1,     1,     1,     3,     1,     4,     3,     2,     2,\n",
       "             1,     5,     1,     1,     1,     1,     1,     1,     1,     2,\n",
       "             1,     3,     5,     1,     1,     1,     1,     1,     1,     3,\n",
       "             2,     1,     1,     8,     3,     3,     8,     2,     2,     1,\n",
       "             4,     3,     1,     3,     4,     1,     7,     1,     1,     6,\n",
       "             2,     3,     2,     2,     4,     4,     6,     6,     3,     8,\n",
       "            18,     8,  1706]))"
      ]
     },
     "execution_count": 42,
     "metadata": {},
     "output_type": "execute_result"
    }
   ],
   "source": []
  },
  {
   "cell_type": "code",
   "execution_count": 4,
   "metadata": {},
   "outputs": [
    {
     "name": "stdout",
     "output_type": "stream",
     "text": [
      "Percentage of images w/o mask: 72.39462714219546\n"
     ]
    }
   ],
   "source": [
    "data = ds.data\n",
    "n = len(data)\n",
    "num_no_mask = sum([x[1] == '-1' for x in data])\n",
    "print(f\"Percentage of images w/o mask: {100*num_no_mask/n}\")"
   ]
  },
  {
   "cell_type": "code",
   "execution_count": null,
   "metadata": {},
   "outputs": [],
   "source": []
  },
  {
   "cell_type": "code",
   "execution_count": null,
   "metadata": {},
   "outputs": [],
   "source": []
  },
  {
   "cell_type": "markdown",
   "metadata": {},
   "source": [
    "Transforms"
   ]
  },
  {
   "cell_type": "code",
   "execution_count": 97,
   "metadata": {},
   "outputs": [
    {
     "name": "stdout",
     "output_type": "stream",
     "text": [
      "torch.Size([1, 256, 256])\n",
      "torch.Size([1, 256, 256])\n"
     ]
    }
   ],
   "source": [
    "image, mask = ds[1]\n",
    "print(image.shape)\n",
    "print(mask.shape)"
   ]
  },
  {
   "cell_type": "code",
   "execution_count": 77,
   "metadata": {},
   "outputs": [
    {
     "name": "stdout",
     "output_type": "stream",
     "text": [
      "tensor([0.0000, 0.0039, 0.0078, 0.0118, 0.0157, 0.0196, 0.0235, 0.0275, 0.0314,\n",
      "        0.0353, 0.0392, 0.0431, 0.0471, 0.0510, 0.0549, 0.0588, 0.0627, 0.0667,\n",
      "        0.0706, 0.0745, 0.0784, 0.0824, 0.0902, 0.0941, 0.0980, 0.1020, 0.1059,\n",
      "        0.1137, 0.1216, 0.1255, 0.1294, 0.1412, 0.1451, 0.1490, 0.1529, 0.1647,\n",
      "        0.1686, 0.1765, 0.1804, 0.1922, 0.2000, 0.2039, 0.2078, 0.2118, 0.2196,\n",
      "        0.2275, 0.2353, 0.2431, 0.2588, 0.2627, 0.2667, 0.2706, 0.2902, 0.2941,\n",
      "        0.3020, 0.3098, 0.3137, 0.3176, 0.3255, 0.3294, 0.3333, 0.3412, 0.3490,\n",
      "        0.3647, 0.3686, 0.3765, 0.3804, 0.3922, 0.3961, 0.4039, 0.4196, 0.4275,\n",
      "        0.4510, 0.4549, 0.4627, 0.4667, 0.4745, 0.4863, 0.4941, 0.5020, 0.5059,\n",
      "        0.5098, 0.5176, 0.5216, 0.5255, 0.5294, 0.5490, 0.5608, 0.5647, 0.5725,\n",
      "        0.5804, 0.5843, 0.6000, 0.6235, 0.6275, 0.6431, 0.6549, 0.6588, 0.6706,\n",
      "        0.6863, 0.6902, 0.6941, 0.6980, 0.7020, 0.7059, 0.7098, 0.7137, 0.7176,\n",
      "        0.7216, 0.7294, 0.7333, 0.7373, 0.7412, 0.7451, 0.7490, 0.7569, 0.7647,\n",
      "        0.7725, 0.7765, 0.7804, 0.7843, 0.7882, 0.7922, 0.7961, 0.8000, 0.8157,\n",
      "        0.8196, 0.8235, 0.8275, 0.8314, 0.8353, 0.8431, 0.8471, 0.8510, 0.8549,\n",
      "        0.8588, 0.8745, 0.8824, 0.8863, 0.8980, 0.9020, 0.9059, 0.9176, 0.9216,\n",
      "        0.9255, 0.9294, 0.9333, 0.9373, 0.9412, 0.9451, 0.9529, 0.9569, 0.9608,\n",
      "        0.9647, 0.9686, 0.9725, 0.9765, 0.9804, 0.9843, 0.9882, 0.9922, 0.9961,\n",
      "        1.0000])\n"
     ]
    }
   ],
   "source": [
    "print(mask.unique())"
   ]
  },
  {
   "cell_type": "code",
   "execution_count": 18,
   "metadata": {},
   "outputs": [
    {
     "ename": "NameError",
     "evalue": "name 'image' is not defined",
     "output_type": "error",
     "traceback": [
      "\u001b[0;31m---------------------------------------------------------------------------\u001b[0m",
      "\u001b[0;31mNameError\u001b[0m                                 Traceback (most recent call last)",
      "\u001b[0;32m<ipython-input-18-d4dbefdd0b0e>\u001b[0m in \u001b[0;36m<module>\u001b[0;34m\u001b[0m\n\u001b[0;32m----> 1\u001b[0;31m \u001b[0mimage\u001b[0m \u001b[0;34m=\u001b[0m \u001b[0mt\u001b[0m\u001b[0;34m(\u001b[0m\u001b[0mimage\u001b[0m\u001b[0;34m)\u001b[0m\u001b[0;34m.\u001b[0m\u001b[0mnumpy\u001b[0m\u001b[0;34m(\u001b[0m\u001b[0;34m)\u001b[0m\u001b[0;34m\u001b[0m\u001b[0;34m\u001b[0m\u001b[0m\n\u001b[0m",
      "\u001b[0;31mNameError\u001b[0m: name 'image' is not defined"
     ]
    }
   ],
   "source": [
    "image = t(image).numpy()"
   ]
  },
  {
   "cell_type": "code",
   "execution_count": null,
   "metadata": {},
   "outputs": [],
   "source": [
    "plot_pixel_array(image[0])"
   ]
  },
  {
   "cell_type": "code",
   "execution_count": null,
   "metadata": {},
   "outputs": [],
   "source": []
  },
  {
   "cell_type": "code",
   "execution_count": null,
   "metadata": {},
   "outputs": [],
   "source": []
  },
  {
   "cell_type": "code",
   "execution_count": null,
   "metadata": {},
   "outputs": [],
   "source": []
  },
  {
   "cell_type": "code",
   "execution_count": null,
   "metadata": {},
   "outputs": [],
   "source": []
  },
  {
   "cell_type": "code",
   "execution_count": null,
   "metadata": {},
   "outputs": [],
   "source": []
  },
  {
   "cell_type": "code",
   "execution_count": null,
   "metadata": {},
   "outputs": [],
   "source": []
  },
  {
   "cell_type": "code",
   "execution_count": null,
   "metadata": {},
   "outputs": [],
   "source": []
  },
  {
   "cell_type": "code",
   "execution_count": null,
   "metadata": {},
   "outputs": [],
   "source": []
  },
  {
   "cell_type": "code",
   "execution_count": null,
   "metadata": {},
   "outputs": [],
   "source": []
  },
  {
   "cell_type": "code",
   "execution_count": null,
   "metadata": {},
   "outputs": [],
   "source": []
  },
  {
   "cell_type": "code",
   "execution_count": null,
   "metadata": {},
   "outputs": [],
   "source": []
  },
  {
   "cell_type": "code",
   "execution_count": null,
   "metadata": {},
   "outputs": [],
   "source": []
  },
  {
   "cell_type": "code",
   "execution_count": null,
   "metadata": {},
   "outputs": [],
   "source": []
  },
  {
   "cell_type": "code",
   "execution_count": null,
   "metadata": {},
   "outputs": [],
   "source": []
  }
 ],
 "metadata": {
  "kernelspec": {
   "display_name": "Python 3",
   "language": "python",
   "name": "python3"
  },
  "language_info": {
   "codemirror_mode": {
    "name": "ipython",
    "version": 3
   },
   "file_extension": ".py",
   "mimetype": "text/x-python",
   "name": "python",
   "nbconvert_exporter": "python",
   "pygments_lexer": "ipython3",
   "version": "3.7.6"
  }
 },
 "nbformat": 4,
 "nbformat_minor": 4
}
